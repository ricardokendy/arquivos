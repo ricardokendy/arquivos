{
  "nbformat": 4,
  "nbformat_minor": 0,
  "metadata": {
    "colab": {
      "provenance": [],
      "authorship_tag": "ABX9TyPr/l4Cj3kiiMLcNw7wusvX",
      "include_colab_link": true
    },
    "kernelspec": {
      "name": "python3",
      "display_name": "Python 3"
    },
    "language_info": {
      "name": "python"
    }
  },
  "cells": [
    {
      "cell_type": "markdown",
      "metadata": {
        "id": "view-in-github",
        "colab_type": "text"
      },
      "source": [
        "<a href=\"https://colab.research.google.com/github/ricardokendy/arquivos/blob/main/teste.ipynb\" target=\"_parent\"><img src=\"https://colab.research.google.com/assets/colab-badge.svg\" alt=\"Open In Colab\"/></a>"
      ]
    },
    {
      "cell_type": "code",
      "execution_count": null,
      "metadata": {
        "colab": {
          "base_uri": "https://localhost:8080/",
          "height": 131
        },
        "id": "zu9IrvrGAUzT",
        "outputId": "e8cd6879-6c09-409e-f027-d4061bfbb65a"
      },
      "outputs": [
        {
          "output_type": "error",
          "ename": "SyntaxError",
          "evalue": "ignored",
          "traceback": [
            "\u001b[0;36m  File \u001b[0;32m\"<ipython-input-1-085fc995bb5e>\"\u001b[0;36m, line \u001b[0;32m10\u001b[0m\n\u001b[0;31m    nome_completo.append(str(b['nome'])'+'str(b['sobrenome']))\u001b[0m\n\u001b[0m                                       ^\u001b[0m\n\u001b[0;31mSyntaxError\u001b[0m\u001b[0;31m:\u001b[0m invalid syntax\n"
          ]
        }
      ],
      "source": [
        "dicionario={\n",
        "    'pessoa_1':{'nome':'Peterson','sobrenome':'Almeida'}, \n",
        "    'pessoa_2':{'nome':'Maria','sobrenome':'Silva'}, \n",
        "    'pessoa_3':{'nome':'Jose','sobrenome':'Santos'}\n",
        "    } \n",
        "\n",
        "nome_completo=[] \n",
        "\n",
        "for a,b in dicionario.items(): \n",
        "  nome_completo.append(str(b['nome'])'+'str(b['sobrenome'])) \n",
        "\n",
        "print(nome_completo)"
      ]
    },
    {
      "cell_type": "code",
      "source": [
        "a =['dnc','abc','bnc','mnc','dnc','bnc','Dnc','ncd','dnc','dncdnc','ddnc']\n"
      ],
      "metadata": {
        "id": "YY0DEAD-A1__"
      },
      "execution_count": null,
      "outputs": []
    },
    {
      "cell_type": "code",
      "source": [
        "Lista1 = [1,2,3,4,5] Lista2 = [1,2,3,4,5] Lista3 = Lista1 + Lista2 print(Lista3)"
      ],
      "metadata": {
        "id": "jy3U9fKxA_4W"
      },
      "execution_count": null,
      "outputs": []
    },
    {
      "cell_type": "code",
      "source": [
        "altura = 1.75 \n",
        "peso = 79.2 \n",
        "IMC = peso/altura**2 \n",
        "print('{:.2f}'.format(IMC))"
      ],
      "metadata": {
        "colab": {
          "base_uri": "https://localhost:8080/"
        },
        "id": "__MxAvDcBK7j",
        "outputId": "0eddf384-82ee-4f31-fdf4-31f0ebf5fb53"
      },
      "execution_count": null,
      "outputs": [
        {
          "output_type": "stream",
          "name": "stdout",
          "text": [
            "25.86\n"
          ]
        }
      ]
    },
    {
      "cell_type": "code",
      "source": [
        "lista = [13,2,19,11,7,9,19,16,17,7,7,10,1,6,'dnc',18,2,11,2,9,10] \n",
        "X=0 \n",
        "i=0 \n",
        "while True: \n",
        "  if lista[i] == 'dnc': \n",
        "    break \n",
        "  if lista[i]%2 == 1: \n",
        "    X += lista[i] \n",
        "    i += 1 \n",
        "    \n",
        "print(X)"
      ],
      "metadata": {
        "id": "R9-EN95vCZYY"
      },
      "execution_count": null,
      "outputs": []
    }
  ]
}